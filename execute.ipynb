{
 "cells": [
  {
   "cell_type": "code",
   "execution_count": null,
   "metadata": {},
   "outputs": [],
   "source": [
    "from mapchete import FARMchete, merge_tiffs"
   ]
  },
  {
   "cell_type": "code",
   "execution_count": null,
   "metadata": {},
   "outputs": [],
   "source": [
    "maxchete = FARMchete().get(\"maxchete\")\n",
    "maxchete = maxchete(input_file, size=512, output_path=\"raster_clip\", clear_output_path=True, n_images=200, no_data_percentage = 0.3)\n",
    "maxchete.get_rasters()"
   ]
  },
  {
   "cell_type": "code",
   "execution_count": null,
   "metadata": {},
   "outputs": [],
   "source": [
    "fig, ax = maxchete.get_3Ddistribution()"
   ]
  },
  {
   "cell_type": "code",
   "execution_count": null,
   "metadata": {},
   "outputs": [],
   "source": [
    "merge_tiffs()"
   ]
  }
 ],
 "metadata": {
  "kernelspec": {
   "display_name": "gcc-py37",
   "language": "python",
   "name": "python3"
  },
  "language_info": {
   "codemirror_mode": {
    "name": "ipython",
    "version": 3
   },
   "file_extension": ".py",
   "mimetype": "text/x-python",
   "name": "python",
   "nbconvert_exporter": "python",
   "pygments_lexer": "ipython3",
   "version": "3.7.15"
  },
  "orig_nbformat": 4,
  "vscode": {
   "interpreter": {
    "hash": "bca465eb6d685e9386c41429001e763228ddb3575d4059ca7dc31639dff3b510"
   }
  }
 },
 "nbformat": 4,
 "nbformat_minor": 2
}
